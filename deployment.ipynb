{
 "cells": [
  {
   "cell_type": "code",
   "execution_count": 1,
   "id": "initial_id",
   "metadata": {
    "collapsed": true,
    "ExecuteTime": {
     "end_time": "2024-02-12T16:02:53.812492700Z",
     "start_time": "2024-02-12T16:02:52.972164200Z"
    }
   },
   "outputs": [],
   "source": [
    "import os\n",
    "import json\n",
    "import requests\n",
    "import collections.abc\n",
    "from azureml.core import Workspace, ComputeTarget\n",
    "from azureml.core.model import Model\n",
    "from azureml.core.environment import Environment\n",
    "from azureml.core.conda_dependencies import CondaDependencies\n",
    "from azureml.core.webservice import AciWebservice, Webservice\n",
    "from azureml.core.model import InferenceConfig\n",
    "from dotenv import load_dotenv\n",
    "from azureml.core.compute import AksCompute\n",
    "from azureml.core.webservice import AksWebservice\n",
    "\n"
   ]
  },
  {
   "cell_type": "code",
   "execution_count": null,
   "outputs": [],
   "source": [
    "# Load the environment variables from .env file\n",
    "load_dotenv()\n",
    "\n",
    "# Now you can retrieve each variable using os.getenv('VARIABLE_NAME')\n",
    "subscription_id = os.getenv('SUBSCRIPTION_ID')\n",
    "resource_group = os.getenv('RESOURCE_GROUP')\n",
    "workspace_name = os.getenv('WORKSPACE_NAME')\n",
    "region = os.getenv('REGION')\n",
    "\n",
    "# You can now use these variables in your application\n",
    "print(subscription_id, resource_group, workspace_name, region)\n"
   ],
   "metadata": {
    "collapsed": false
   },
   "id": "2ab05fc3df89f893"
  },
  {
   "cell_type": "code",
   "execution_count": 4,
   "outputs": [
    {
     "name": "stdout",
     "output_type": "stream",
     "text": [
      "Performing interactive authentication. Please follow the instructions on the terminal.\n"
     ]
    },
    {
     "name": "stderr",
     "output_type": "stream",
     "text": [
      "The default web browser has been opened at https://login.microsoftonline.com/organizations/oauth2/v2.0/authorize. Please continue the login in the web browser. If no web browser is available or if the web browser fails to open, use device code flow with `az login --use-device-code`.\n"
     ]
    },
    {
     "name": "stdout",
     "output_type": "stream",
     "text": [
      "Interactive authentication successfully completed.\n",
      "Deploying AppInsights with name testfrominsights2b321920.\n",
      "Deployed AppInsights with name testfrominsights2b321920. Took 3.67 seconds.\n",
      "Deploying StorageAccount with name testfromstoragea76862e2c.\n",
      "Deploying KeyVault with name testfromkeyvault46a7a01b.\n",
      "Deployed KeyVault with name testfromkeyvault46a7a01b. Took 21.32 seconds.\n",
      "Deploying Workspace with name TestFromHome-1.\n",
      "Deployed StorageAccount with name testfromstoragea76862e2c. Took 27.3 seconds.\n",
      "Deployed Workspace with name TestFromHome-1. Took 35.67 seconds.\n",
      "Workspace TestFromHome-1 created\n"
     ]
    }
   ],
   "source": [
    "# Create a workspace\n",
    "\n",
    "ws = Workspace.create(name=workspace_name,\n",
    "                      subscription_id=subscription_id,\n",
    "                      resource_group=resource_group,\n",
    "                      location=region)\n",
    "\n",
    "print(f'Workspace {workspace_name} created')"
   ],
   "metadata": {
    "collapsed": false,
    "ExecuteTime": {
     "end_time": "2024-02-12T16:05:02.712841500Z",
     "start_time": "2024-02-12T16:03:12.617119200Z"
    }
   },
   "id": "dcf6c9d0bdfc5599"
  },
  {
   "cell_type": "code",
   "execution_count": 5,
   "outputs": [
    {
     "name": "stdout",
     "output_type": "stream",
     "text": [
      "Registering model sentiment_analysis_model\n",
      "Model registered successfully: sentiment_analysis_model:1\n"
     ]
    }
   ],
   "source": [
    "# Specify the path to your SavedModel directory\n",
    "model_path = 'sentiment_analysis_model'\n",
    "model_name = 'sentiment_analysis_model'\n",
    "\n",
    "# Register the model in Azure Machine Learning\n",
    "registered_model = Model.register(model_path=model_path,\n",
    "                                  model_name=model_name,\n",
    "                                  workspace=ws)\n",
    "\n",
    "print(\"Model registered successfully:\", registered_model.id)\n"
   ],
   "metadata": {
    "collapsed": false,
    "ExecuteTime": {
     "end_time": "2024-02-12T16:06:30.963087200Z",
     "start_time": "2024-02-12T16:05:19.254624300Z"
    }
   },
   "id": "72a4bc169206ad40"
  },
  {
   "cell_type": "code",
   "execution_count": 6,
   "outputs": [
    {
     "name": "stdout",
     "output_type": "stream",
     "text": [
      "Registering model my_tokenizer\n",
      "Tokenizer model registered successfully: my_tokenizer:1\n"
     ]
    }
   ],
   "source": [
    "# Specify the local file path to the tokenizer\n",
    "tokenizer_file_path = 'my_tokenizer/tokenizer.pickle'  # Update this path\n",
    "\n",
    "# Specify a name for the tokenizer model\n",
    "tokenizer_model_name = 'my_tokenizer'\n",
    "\n",
    "# Register the tokenizer as a model in Azure ML\n",
    "registered_tokenizer = Model.register(model_path=tokenizer_file_path,\n",
    "                                      model_name=tokenizer_model_name,\n",
    "                                      workspace=ws)\n",
    "\n",
    "print(\"Tokenizer model registered successfully:\", registered_tokenizer.id)\n"
   ],
   "metadata": {
    "collapsed": false,
    "ExecuteTime": {
     "end_time": "2024-02-12T16:06:41.813599300Z",
     "start_time": "2024-02-12T16:06:38.153891300Z"
    }
   },
   "id": "d1b798832113f3cd"
  },
  {
   "cell_type": "code",
   "execution_count": 7,
   "outputs": [],
   "source": [
    "# Create a new environment\n",
    "conda_env = Environment('my-tf-conda-env-home-1')\n",
    "# Define the conda dependencies object\n",
    "conda_deps = CondaDependencies()\n",
    "# Add conda and pip packages\n",
    "# Note: Specify the versions if necessary to ensure compatibility\n",
    "conda_deps.add_conda_package('numpy')\n",
    "conda_deps.add_pip_package('tensorflow')  # For TensorFlow\n",
    "\n",
    "# Set the dependencies for the environment\n",
    "conda_env.python.conda_dependencies = conda_deps"
   ],
   "metadata": {
    "collapsed": false,
    "ExecuteTime": {
     "end_time": "2024-02-12T16:06:43.948574700Z",
     "start_time": "2024-02-12T16:06:43.924574700Z"
    }
   },
   "id": "7bdd9d6f2803ce67"
  },
  {
   "cell_type": "code",
   "execution_count": 19,
   "outputs": [],
   "source": [
    "# Create an InferenceConfig\n",
    "inference_config = InferenceConfig(entry_script='script.py', environment=conda_env)"
   ],
   "metadata": {
    "collapsed": false,
    "ExecuteTime": {
     "end_time": "2024-02-12T16:53:52.486581900Z",
     "start_time": "2024-02-12T16:53:52.477840800Z"
    }
   },
   "id": "2fac7706e8f94978"
  },
  {
   "cell_type": "code",
   "execution_count": 20,
   "outputs": [],
   "source": [
    "# Specify deployment configuration for ACI\n",
    "aci_config = AciWebservice.deploy_configuration(cpu_cores=1, memory_gb=1)"
   ],
   "metadata": {
    "collapsed": false,
    "ExecuteTime": {
     "end_time": "2024-02-12T16:53:53.127593600Z",
     "start_time": "2024-02-12T16:53:53.118330Z"
    }
   },
   "id": "cde0767901d89cbb"
  },
  {
   "cell_type": "code",
   "execution_count": 21,
   "outputs": [
    {
     "name": "stderr",
     "output_type": "stream",
     "text": [
      "C:\\Users\\ALITEMP\\AppData\\Local\\Temp\\ipykernel_21540\\2281033007.py:2: FutureWarning: azureml.core.model:\n",
      "To leverage new model deployment capabilities, AzureML recommends using CLI/SDK v2 to deploy models as online endpoint, \n",
      "please refer to respective documentations \n",
      "https://docs.microsoft.com/azure/machine-learning/how-to-deploy-managed-online-endpoints /\n",
      "https://docs.microsoft.com/azure/machine-learning/how-to-attach-kubernetes-anywhere \n",
      "For more information on migration, see https://aka.ms/acimoemigration \n",
      "To disable CLI/SDK v1 deprecation warning set AZUREML_LOG_DEPRECATION_WARNING_ENABLED to 'False'\n",
      "  service = Model.deploy(workspace=ws,\n"
     ]
    },
    {
     "name": "stdout",
     "output_type": "stream",
     "text": [
      "Tips: You can try get_logs(): https://aka.ms/debugimage#dockerlog or local deployment: https://aka.ms/debugimage#debug-locally to debug if deployment takes longer than 10 minutes.\n",
      "Running\n",
      "2024-02-12 19:54:09+03:00 Creating Container Registry if not exists.\n",
      "2024-02-12 19:54:09+03:00 Registering the environment.\n",
      "2024-02-12 19:54:12+03:00 Use the existing image.\n",
      "2024-02-12 19:54:12+03:00 Generating deployment configuration.\n",
      "2024-02-12 19:54:14+03:00 Submitting deployment to compute.\n",
      "2024-02-12 19:54:19+03:00 Checking the status of deployment sentiment-home-3..\n",
      "2024-02-12 19:56:13+03:00 Checking the status of inference endpoint sentiment-home-3.\n",
      "Succeeded\n",
      "ACI service creation operation finished, operation \"Succeeded\"\n"
     ]
    }
   ],
   "source": [
    "# Assuming 'registered_model' is your main model and 'registered_tokenizer' is your tokenizer model\n",
    "service = Model.deploy(workspace=ws,\n",
    "                       name='sentiment-home-3',  # Name of the deployment\n",
    "                       models=[registered_model, registered_tokenizer],  # Include both models\n",
    "                       inference_config=inference_config,  # Your inference configuration\n",
    "                       deployment_config=aci_config)  # Your deployment configuration\n",
    "service.wait_for_deployment(show_output=True)\n"
   ],
   "metadata": {
    "collapsed": false,
    "ExecuteTime": {
     "end_time": "2024-02-12T16:56:21.987075Z",
     "start_time": "2024-02-12T16:53:56.288234500Z"
    }
   },
   "id": "c61b92ef880b3115"
  },
  {
   "cell_type": "code",
   "execution_count": null,
   "outputs": [],
   "source": [
    "#service.get_logs()"
   ],
   "metadata": {
    "collapsed": false
   },
   "id": "a7a0e0674bca02a6"
  },
  {
   "cell_type": "code",
   "execution_count": 22,
   "outputs": [],
   "source": [
    "scoring_uri = service.scoring_uri\n"
   ],
   "metadata": {
    "collapsed": false,
    "ExecuteTime": {
     "end_time": "2024-02-12T16:56:33.099557100Z",
     "start_time": "2024-02-12T16:56:33.078555700Z"
    }
   },
   "id": "1f9d9af13cb3b0ff"
  },
  {
   "cell_type": "code",
   "execution_count": 23,
   "outputs": [
    {
     "data": {
      "text/plain": "'http://a0aafa14-0bf4-4c77-9123-9b998a0eb35d.uaenorth.azurecontainer.io/score'"
     },
     "execution_count": 23,
     "metadata": {},
     "output_type": "execute_result"
    }
   ],
   "source": [
    "scoring_uri\n"
   ],
   "metadata": {
    "collapsed": false,
    "ExecuteTime": {
     "end_time": "2024-02-12T16:56:33.799261500Z",
     "start_time": "2024-02-12T16:56:33.776493400Z"
    }
   },
   "id": "1f9456e4859c5c43"
  },
  {
   "cell_type": "code",
   "execution_count": null,
   "outputs": [],
   "source": [],
   "metadata": {
    "collapsed": false
   },
   "id": "2d27dc42d386fa8"
  }
 ],
 "metadata": {
  "kernelspec": {
   "display_name": "Python 3",
   "language": "python",
   "name": "python3"
  },
  "language_info": {
   "codemirror_mode": {
    "name": "ipython",
    "version": 2
   },
   "file_extension": ".py",
   "mimetype": "text/x-python",
   "name": "python",
   "nbconvert_exporter": "python",
   "pygments_lexer": "ipython2",
   "version": "2.7.6"
  }
 },
 "nbformat": 4,
 "nbformat_minor": 5
}
