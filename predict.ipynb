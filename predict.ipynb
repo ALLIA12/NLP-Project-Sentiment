{
 "cells": [
  {
   "cell_type": "code",
   "execution_count": 27,
   "id": "initial_id",
   "metadata": {
    "collapsed": true,
    "ExecuteTime": {
     "end_time": "2024-02-12T16:57:14.162208600Z",
     "start_time": "2024-02-12T16:57:14.050562500Z"
    }
   },
   "outputs": [
    {
     "name": "stdout",
     "output_type": "stream",
     "text": [
      "{'result': [[0.1506252884864807]]}\n",
      "The result is Negative, 0.8493747115135193 confidence\n"
     ]
    }
   ],
   "source": [
    "import requests\n",
    "import json\n",
    "\n",
    "# Define the input data as a list\n",
    "input_data = \"Hate\"\n",
    "\n",
    "# Convert the input data to a JSON string\n",
    "input_data_json = json.dumps({\"data\": input_data})\n",
    "\n",
    "# Replace with the URL of your deployed service\n",
    "#scoring_uri = \"http://faa76fed-73a7-4b4e-9907-4dc899e7deb8.uaenorth.azurecontainer.io/score\"\n",
    "scoring_uri = 'http://a0aafa14-0bf4-4c77-9123-9b998a0eb35d.uaenorth.azurecontainer.io/score'\n",
    "\n",
    "# Define the content type\n",
    "headers = {\"Content-Type\": \"application/json\"}\n",
    "\n",
    "# Send an HTTP POST request to the endpoint\n",
    "response = requests.post(scoring_uri, data=input_data_json, headers=headers)\n",
    "\n",
    "# Check the response status code\n",
    "if response.status_code == 200:\n",
    "    # Parse the JSON response\n",
    "    result = json.loads(response.json())\n",
    "    print(result)\n",
    "    # Extract the prediction (result) from the response\n",
    "    prediction = result[\"result\"][0][0]\n",
    "    if prediction >= 0.5:\n",
    "        print(f\"The result is Positive, {prediction} confidence\")\n",
    "    else:\n",
    "        print(f\"The result is Negative, {1 - prediction} confidence\")\n",
    "else:\n",
    "    print(f\"Error: {response.text}\")"
   ]
  },
  {
   "cell_type": "code",
   "execution_count": null,
   "outputs": [],
   "source": [],
   "metadata": {
    "collapsed": false
   },
   "id": "85f849eadd515ba5"
  }
 ],
 "metadata": {
  "kernelspec": {
   "display_name": "Python 3",
   "language": "python",
   "name": "python3"
  },
  "language_info": {
   "codemirror_mode": {
    "name": "ipython",
    "version": 2
   },
   "file_extension": ".py",
   "mimetype": "text/x-python",
   "name": "python",
   "nbconvert_exporter": "python",
   "pygments_lexer": "ipython2",
   "version": "2.7.6"
  }
 },
 "nbformat": 4,
 "nbformat_minor": 5
}
